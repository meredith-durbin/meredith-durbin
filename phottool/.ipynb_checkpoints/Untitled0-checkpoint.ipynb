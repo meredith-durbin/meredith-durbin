{
 "metadata": {
  "name": "",
  "signature": "sha256:640497a9eefa84da0a6d578f13f3ee0efaac745fc41da9bf7f51d8c32b2d04e7"
 },
 "nbformat": 3,
 "nbformat_minor": 0,
 "worksheets": [
  {
   "cells": [
    {
     "cell_type": "code",
     "collapsed": false,
     "input": [
      "import numpy as np\n",
      "\n",
      "infile = open('static/BB.txt')\n",
      "data = np.genfromtxt(infile, delimiter=',', dtype=str)\n",
      "infile.close()\n",
      "\n",
      "spec = 'BB2500'\n",
      "chip = ['uvis1', 'uvis2']\n",
      "hst = 'f606w'\n",
      "abmag = True\n",
      "stmag = False\n",
      "vegamag = True\n",
      "\n",
      "print data[1]"
     ],
     "language": "python",
     "metadata": {},
     "outputs": [
      {
       "output_type": "stream",
       "stream": "stdout",
       "text": [
        "['BB2500' 'I' 'uvis1' 'f814w' '0.092' '0.050' '0.092']\n"
       ]
      }
     ],
     "prompt_number": 108
    },
    {
     "cell_type": "code",
     "collapsed": false,
     "input": [
      "def match_data():\n",
      "    data_out = []\n",
      "    for i in data:\n",
      "        if spec == i[0] and hst == i[3] and i[2] in chip:\n",
      "            filt = i[1] + ' - ' + i[3].upper()\n",
      "            if i[0].startswith('BB'):\n",
      "                spectr = i[0][2:] + ' K blackbody'\n",
      "            if i[0].startswith('S'):\n",
      "                spectr = i[0] + ' galaxy'\n",
      "            if i[0].endswith('V'):\n",
      "                spectr = i[0] + ' star'\n",
      "            chip_val = i[2][-1]\n",
      "            if abmag:\n",
      "                ab_val = i[4]\n",
      "            else:\n",
      "                ab_val = ''\n",
      "            if stmag:\n",
      "                st_val = i[5]\n",
      "            else:\n",
      "                st_val = ''\n",
      "            if vegamag:\n",
      "                vega_val = i[6]\n",
      "            else:\n",
      "                vega_val = ''\n",
      "            alldat = (filt, spectr, chip_val, ab_val, st_val, vega_val)\n",
      "            data_out.append(alldat)            \n",
      "    return data_out\n",
      "\n",
      "output = match_data()"
     ],
     "language": "python",
     "metadata": {},
     "outputs": [],
     "prompt_number": 123
    },
    {
     "cell_type": "code",
     "collapsed": false,
     "input": [
      "for line in output:\n",
      "    for value in line:\n",
      "        print value"
     ],
     "language": "python",
     "metadata": {},
     "outputs": [
      {
       "output_type": "stream",
       "stream": "stdout",
       "text": [
        "V - F606W\n",
        "2500 K blackbody\n",
        "1\n",
        "0.629\n",
        "\n",
        "0.708\n",
        "V - F606W\n",
        "2500 K blackbody\n",
        "2\n",
        "0.629\n",
        "\n",
        "0.708\n"
       ]
      }
     ],
     "prompt_number": 124
    },
    {
     "cell_type": "code",
     "collapsed": false,
     "input": [
      "{% for line in output %}\n",
      "<tr>\n",
      "{% for value in line %}\n",
      "<td>value</td>\n",
      "{% endfor %}\n",
      "</tr>\n",
      "{% endfor %}"
     ],
     "language": "python",
     "metadata": {},
     "outputs": []
    }
   ],
   "metadata": {}
  }
 ]
}